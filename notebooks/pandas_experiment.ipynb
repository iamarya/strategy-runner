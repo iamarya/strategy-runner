{
 "cells": [
  {
   "cell_type": "code",
   "execution_count": 1,
   "metadata": {},
   "outputs": [],
   "source": [
    "import numpy as np\n",
    "import pandas as pd\n"
   ]
  },
  {
   "cell_type": "code",
   "execution_count": 2,
   "metadata": {},
   "outputs": [],
   "source": [
    "\n",
    "a = [[1, 2, 3], [4, 5, 6], [7, 8, 9]] \n",
    "\n",
    "columns = ['x', 'y', 'z', 'extra']\n",
    "\n",
    "df = pd.DataFrame(columns=columns, index=range(5))\n",
    "df.loc[0, ['x', 'y', 'z']] = [1, 22, 45]\n",
    "df.loc[1, ['x', 'y', 'z']] = [2, 22, 45]\n",
    "df.loc[2, ['x', 'y', 'z']] = [3, 22, 45]\n",
    "\n",
    "# calculate average sma (2 days)\n",
    "df.loc[0:2,'extra'] = df.loc[0:2,\"x\"].rolling(2).mean()\n",
    "\n"
   ]
  },
  {
   "cell_type": "code",
   "execution_count": 3,
   "metadata": {},
   "outputs": [
    {
     "name": "stdout",
     "output_type": "stream",
     "text": [
      "0    NaN\n",
      "1    1.5\n",
      "2    2.5\n",
      "3    3.5\n",
      "4    NaN\n",
      "Name: x, dtype: float64\n",
      "     x    y    z extra\n",
      "0    1   22   45   NaN\n",
      "1    2   22   45   1.5\n",
      "2    3   22   45   2.5\n",
      "3    4   22   45   3.5\n",
      "4  NaN  NaN  NaN   NaN\n"
     ]
    }
   ],
   "source": [
    "# add row and cal again sma\n",
    "df.loc[3, ['x', 'y', 'z']] = [4, 22, 45]\n",
    "print(df.loc[0:4,\"x\"].rolling(2).mean())\n",
    "df.loc[[3],'extra'] = df.loc[2:3,\"x\"].rolling(2).mean()\n",
    "print(df)"
   ]
  },
  {
   "cell_type": "code",
   "execution_count": null,
   "metadata": {},
   "outputs": [],
   "source": []
  }
 ],
 "metadata": {
  "kernelspec": {
   "display_name": ".venv",
   "language": "python",
   "name": "python3"
  },
  "language_info": {
   "codemirror_mode": {
    "name": "ipython",
    "version": 3
   },
   "file_extension": ".py",
   "mimetype": "text/x-python",
   "name": "python",
   "nbconvert_exporter": "python",
   "pygments_lexer": "ipython3",
   "version": "3.11.4"
  },
  "orig_nbformat": 4
 },
 "nbformat": 4,
 "nbformat_minor": 2
}
